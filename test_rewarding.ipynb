{
 "cells": [
  {
   "cell_type": "markdown",
   "metadata": {},
   "source": [
    "### Check if miners get reward correctly"
   ]
  },
  {
   "cell_type": "code",
   "execution_count": 2,
   "metadata": {},
   "outputs": [
    {
     "name": "stdout",
     "output_type": "stream",
     "text": [
      "Model: SDXLTurbo\n"
     ]
    },
    {
     "name": "stderr",
     "output_type": "stream",
     "text": [
      "100%|██████████| 4/4 [00:00<00:00, 15.44it/s]\n",
      "100%|██████████| 4/4 [00:00<00:00, 15.44it/s]\n",
      "100%|██████████| 4/4 [00:00<00:00, 15.37it/s]\n",
      "100%|██████████| 4/4 [00:00<00:00, 15.29it/s]\n",
      "100%|██████████| 4/4 [00:00<00:00, 15.52it/s]\n",
      "100%|██████████| 4/4 [00:00<00:00, 15.17it/s]\n",
      "100%|██████████| 4/4 [00:00<00:00, 15.83it/s]\n",
      "100%|██████████| 4/4 [00:00<00:00, 15.55it/s]\n",
      "100%|██████████| 4/4 [00:00<00:00, 15.98it/s]\n",
      "100%|██████████| 4/4 [00:00<00:00, 15.96it/s]\n",
      "100%|██████████| 4/4 [00:00<00:00, 15.84it/s]\n",
      "100%|██████████| 4/4 [00:00<00:00, 14.65it/s]\n",
      "100%|██████████| 4/4 [00:00<00:00, 14.14it/s]\n",
      "100%|██████████| 4/4 [00:00<00:00, 14.62it/s]\n",
      "100%|██████████| 4/4 [00:00<00:00, 15.50it/s]\n",
      "100%|██████████| 4/4 [00:00<00:00, 15.39it/s]\n",
      "100%|██████████| 4/4 [00:00<00:00, 15.93it/s]\n",
      "100%|██████████| 4/4 [00:00<00:00, 15.78it/s]\n",
      "100%|██████████| 4/4 [00:00<00:00, 15.53it/s]\n",
      "100%|██████████| 4/4 [00:00<00:00, 15.30it/s]\n"
     ]
    },
    {
     "name": "stdout",
     "output_type": "stream",
     "text": [
      "Model: SDXLTurbo, rewards: [1, 1, 1, 1, 1, 1, 1, 1, 1, 1, 1, 1, 1, 1, 1, 1, 1, 1, 1, 1]\n",
      "Accuracy: 1.0\n",
      "Model: RealisticVision\n"
     ]
    },
    {
     "name": "stderr",
     "output_type": "stream",
     "text": [
      "You have disabled the safety checker for <class 'diffusers.pipelines.stable_diffusion.pipeline_stable_diffusion.StableDiffusionPipeline'> by passing `safety_checker=None`. Ensure that you abide to the conditions of the Stable Diffusion license and do not expose unfiltered results in services or applications open to the public. Both the diffusers team and Hugging Face strongly recommend to keep the safety filter enabled in all public facing circumstances, disabling it only for use-cases that involve analyzing network behavior or auditing its results. For more information, please have a look at https://github.com/huggingface/diffusers/pull/254 .\n",
      "100%|██████████| 30/30 [00:00<00:00, 37.75it/s]\n",
      "100%|██████████| 30/30 [00:00<00:00, 39.02it/s]\n",
      "100%|██████████| 30/30 [00:00<00:00, 39.46it/s]\n",
      "100%|██████████| 30/30 [00:00<00:00, 39.46it/s]\n",
      "100%|██████████| 30/30 [00:00<00:00, 39.79it/s]\n",
      "100%|██████████| 30/30 [00:00<00:00, 39.54it/s]\n",
      "100%|██████████| 30/30 [00:00<00:00, 39.76it/s]\n",
      "100%|██████████| 30/30 [00:00<00:00, 39.47it/s]\n",
      "100%|██████████| 30/30 [00:00<00:00, 36.96it/s]\n",
      "100%|██████████| 30/30 [00:00<00:00, 37.20it/s]\n",
      "100%|██████████| 30/30 [00:00<00:00, 39.27it/s]\n",
      "100%|██████████| 30/30 [00:00<00:00, 39.56it/s]\n",
      "100%|██████████| 30/30 [00:00<00:00, 39.87it/s]\n",
      "100%|██████████| 30/30 [00:00<00:00, 39.48it/s]\n",
      "100%|██████████| 30/30 [00:00<00:00, 39.06it/s]\n",
      "100%|██████████| 30/30 [00:00<00:00, 39.98it/s]\n",
      "100%|██████████| 30/30 [00:00<00:00, 39.20it/s]\n",
      "100%|██████████| 30/30 [00:00<00:00, 38.95it/s]\n",
      "100%|██████████| 30/30 [00:00<00:00, 39.69it/s]\n",
      "100%|██████████| 30/30 [00:00<00:00, 39.43it/s]\n"
     ]
    },
    {
     "name": "stdout",
     "output_type": "stream",
     "text": [
      "Model: RealisticVision, rewards: [1, 1, 1, 1, 1, 1, 1, 1, 1, 1, 1, 1, 1, 1, 1, 1, 1, 1, 1, 1]\n",
      "Accuracy: 1.0\n"
     ]
    }
   ],
   "source": [
    "import requests\n",
    "import json\n",
    "import torch\n",
    "from dependency_modules.rewarding.app import instantiate_from_config, MODEL_CONFIG\n",
    "from image_generation_subnet.validator.forward import get_reward\n",
    "from image_generation_subnet.protocol import ImageGenerating\n",
    "from dependency_modules.rewarding.utils import pil_image_to_base64\n",
    "import numpy as np\n",
    "\n",
    "N = 20\n",
    "url_dict = {\n",
    "    \"SDXLTurbo\": \"http://sdxl_turbo_nicheimage.nichetensor.com:15012/verify\",\n",
    "    \"RealisticVision\": \"http://check_realistic_vision_nicheimage.nichetensor.com:15011/verify\",\n",
    "}\n",
    "rewards = {}\n",
    "for model, url in url_dict.items():\n",
    "    print(f\"Model: {model}\")\n",
    "    pipe = instantiate_from_config(MODEL_CONFIG[model])\n",
    "    rewards[model] = []\n",
    "    if model == \"RealisticVision\":\n",
    "        params = {\n",
    "            \"num_inference_steps\": 30,\n",
    "        }\n",
    "    else:\n",
    "        params = {\n",
    "            \"num_inference_steps\": 4,\n",
    "            \"width\": 512,\n",
    "            \"height\": 512,\n",
    "            \"guidance_scale\": 0.5,\n",
    "        }\n",
    "    for i in range(N):\n",
    "        prompt = \"an image of samurai, red hat, and a katana, with a red background\"\n",
    "        seed = i\n",
    "        synapse = ImageGenerating(\n",
    "            prompt=prompt,\n",
    "            seed=seed,\n",
    "            model_name=model,\n",
    "            pipeline_params=params,\n",
    "        )\n",
    "        generator = torch.manual_seed(seed)\n",
    "        result = pipe(\n",
    "            prompt,\n",
    "            generator=generator,\n",
    "            **params,\n",
    "        )\n",
    "        images = result.images\n",
    "        synapse.image = pil_image_to_base64(images[0])\n",
    "        reward = get_reward(url, [synapse], synapse)[0]\n",
    "        rewards[model].append(reward)\n",
    "\n",
    "    print(f\"Model: {model}, rewards: {rewards[model]}\")\n",
    "    print(f\"Accuracy: {np.mean(rewards[model])}\")"
   ]
  },
  {
   "cell_type": "markdown",
   "metadata": {},
   "source": [
    "## Check if miner can cheat by running less steps than others"
   ]
  },
  {
   "cell_type": "code",
   "execution_count": 9,
   "metadata": {},
   "outputs": [
    {
     "name": "stdout",
     "output_type": "stream",
     "text": [
      "Model: RealisticVision\n"
     ]
    },
    {
     "name": "stderr",
     "output_type": "stream",
     "text": [
      "You have disabled the safety checker for <class 'diffusers.pipelines.stable_diffusion.pipeline_stable_diffusion.StableDiffusionPipeline'> by passing `safety_checker=None`. Ensure that you abide to the conditions of the Stable Diffusion license and do not expose unfiltered results in services or applications open to the public. Both the diffusers team and Hugging Face strongly recommend to keep the safety filter enabled in all public facing circumstances, disabling it only for use-cases that involve analyzing network behavior or auditing its results. For more information, please have a look at https://github.com/huggingface/diffusers/pull/254 .\n",
      "100%|██████████| 10/10 [00:00<00:00, 38.81it/s]\n"
     ]
    },
    {
     "name": "stdout",
     "output_type": "stream",
     "text": [
      "0\n"
     ]
    },
    {
     "name": "stderr",
     "output_type": "stream",
     "text": [
      "100%|██████████| 10/10 [00:00<00:00, 38.82it/s]\n"
     ]
    },
    {
     "name": "stdout",
     "output_type": "stream",
     "text": [
      "1\n"
     ]
    },
    {
     "name": "stderr",
     "output_type": "stream",
     "text": [
      "100%|██████████| 10/10 [00:00<00:00, 37.86it/s]\n"
     ]
    },
    {
     "name": "stdout",
     "output_type": "stream",
     "text": [
      "0\n"
     ]
    },
    {
     "name": "stderr",
     "output_type": "stream",
     "text": [
      "100%|██████████| 10/10 [00:00<00:00, 39.01it/s]\n"
     ]
    },
    {
     "name": "stdout",
     "output_type": "stream",
     "text": [
      "0\n"
     ]
    },
    {
     "name": "stderr",
     "output_type": "stream",
     "text": [
      "100%|██████████| 10/10 [00:00<00:00, 38.74it/s]\n"
     ]
    },
    {
     "name": "stdout",
     "output_type": "stream",
     "text": [
      "0\n"
     ]
    },
    {
     "name": "stderr",
     "output_type": "stream",
     "text": [
      "100%|██████████| 10/10 [00:00<00:00, 38.22it/s]\n"
     ]
    },
    {
     "name": "stdout",
     "output_type": "stream",
     "text": [
      "1\n"
     ]
    },
    {
     "name": "stderr",
     "output_type": "stream",
     "text": [
      "100%|██████████| 10/10 [00:00<00:00, 37.89it/s]\n"
     ]
    },
    {
     "name": "stdout",
     "output_type": "stream",
     "text": [
      "0\n"
     ]
    },
    {
     "name": "stderr",
     "output_type": "stream",
     "text": [
      "100%|██████████| 10/10 [00:00<00:00, 38.37it/s]\n"
     ]
    },
    {
     "name": "stdout",
     "output_type": "stream",
     "text": [
      "0\n"
     ]
    },
    {
     "name": "stderr",
     "output_type": "stream",
     "text": [
      "100%|██████████| 10/10 [00:00<00:00, 38.54it/s]\n"
     ]
    },
    {
     "name": "stdout",
     "output_type": "stream",
     "text": [
      "1\n"
     ]
    },
    {
     "name": "stderr",
     "output_type": "stream",
     "text": [
      "100%|██████████| 10/10 [00:00<00:00, 40.12it/s]\n"
     ]
    },
    {
     "name": "stdout",
     "output_type": "stream",
     "text": [
      "0\n"
     ]
    },
    {
     "name": "stderr",
     "output_type": "stream",
     "text": [
      "100%|██████████| 10/10 [00:00<00:00, 38.13it/s]\n"
     ]
    },
    {
     "name": "stdout",
     "output_type": "stream",
     "text": [
      "0\n"
     ]
    },
    {
     "name": "stderr",
     "output_type": "stream",
     "text": [
      "100%|██████████| 10/10 [00:00<00:00, 38.22it/s]\n"
     ]
    },
    {
     "name": "stdout",
     "output_type": "stream",
     "text": [
      "0\n"
     ]
    },
    {
     "name": "stderr",
     "output_type": "stream",
     "text": [
      "100%|██████████| 10/10 [00:00<00:00, 39.96it/s]\n"
     ]
    },
    {
     "name": "stdout",
     "output_type": "stream",
     "text": [
      "0\n"
     ]
    },
    {
     "name": "stderr",
     "output_type": "stream",
     "text": [
      "100%|██████████| 10/10 [00:00<00:00, 38.19it/s]\n"
     ]
    },
    {
     "name": "stdout",
     "output_type": "stream",
     "text": [
      "0\n"
     ]
    },
    {
     "name": "stderr",
     "output_type": "stream",
     "text": [
      "100%|██████████| 10/10 [00:00<00:00, 39.91it/s]\n"
     ]
    },
    {
     "name": "stdout",
     "output_type": "stream",
     "text": [
      "0\n"
     ]
    },
    {
     "name": "stderr",
     "output_type": "stream",
     "text": [
      "100%|██████████| 10/10 [00:00<00:00, 38.98it/s]\n"
     ]
    },
    {
     "name": "stdout",
     "output_type": "stream",
     "text": [
      "0\n"
     ]
    },
    {
     "name": "stderr",
     "output_type": "stream",
     "text": [
      "100%|██████████| 10/10 [00:00<00:00, 40.12it/s]\n"
     ]
    },
    {
     "name": "stdout",
     "output_type": "stream",
     "text": [
      "1\n"
     ]
    },
    {
     "name": "stderr",
     "output_type": "stream",
     "text": [
      "100%|██████████| 10/10 [00:00<00:00, 38.49it/s]\n"
     ]
    },
    {
     "name": "stdout",
     "output_type": "stream",
     "text": [
      "0\n"
     ]
    },
    {
     "name": "stderr",
     "output_type": "stream",
     "text": [
      "100%|██████████| 10/10 [00:00<00:00, 39.13it/s]\n"
     ]
    },
    {
     "name": "stdout",
     "output_type": "stream",
     "text": [
      "0\n"
     ]
    },
    {
     "name": "stderr",
     "output_type": "stream",
     "text": [
      "100%|██████████| 10/10 [00:00<00:00, 37.82it/s]\n"
     ]
    },
    {
     "name": "stdout",
     "output_type": "stream",
     "text": [
      "1\n",
      "Model: RealisticVision, rewards: [0, 1, 0, 0, 0, 1, 0, 0, 1, 0, 0, 0, 0, 0, 0, 0, 1, 0, 0, 1]\n",
      "Accuracy: 0.25\n",
      "Model: SDXLTurbo\n"
     ]
    },
    {
     "name": "stderr",
     "output_type": "stream",
     "text": [
      "100%|██████████| 1/1 [00:00<00:00, 15.49it/s]\n"
     ]
    },
    {
     "name": "stdout",
     "output_type": "stream",
     "text": [
      "0\n"
     ]
    },
    {
     "name": "stderr",
     "output_type": "stream",
     "text": [
      "100%|██████████| 1/1 [00:00<00:00, 15.73it/s]\n"
     ]
    },
    {
     "name": "stdout",
     "output_type": "stream",
     "text": [
      "0\n"
     ]
    },
    {
     "name": "stderr",
     "output_type": "stream",
     "text": [
      "100%|██████████| 1/1 [00:00<00:00, 14.70it/s]\n"
     ]
    },
    {
     "name": "stdout",
     "output_type": "stream",
     "text": [
      "0\n"
     ]
    },
    {
     "name": "stderr",
     "output_type": "stream",
     "text": [
      "100%|██████████| 1/1 [00:00<00:00, 15.64it/s]\n"
     ]
    },
    {
     "name": "stdout",
     "output_type": "stream",
     "text": [
      "0\n"
     ]
    },
    {
     "name": "stderr",
     "output_type": "stream",
     "text": [
      "100%|██████████| 1/1 [00:00<00:00, 15.47it/s]\n"
     ]
    },
    {
     "name": "stdout",
     "output_type": "stream",
     "text": [
      "0\n"
     ]
    },
    {
     "name": "stderr",
     "output_type": "stream",
     "text": [
      "100%|██████████| 1/1 [00:00<00:00, 14.26it/s]\n"
     ]
    },
    {
     "name": "stdout",
     "output_type": "stream",
     "text": [
      "0\n"
     ]
    },
    {
     "name": "stderr",
     "output_type": "stream",
     "text": [
      "100%|██████████| 1/1 [00:00<00:00, 14.99it/s]\n"
     ]
    },
    {
     "name": "stdout",
     "output_type": "stream",
     "text": [
      "0\n"
     ]
    },
    {
     "name": "stderr",
     "output_type": "stream",
     "text": [
      "100%|██████████| 1/1 [00:00<00:00, 13.98it/s]\n"
     ]
    },
    {
     "name": "stdout",
     "output_type": "stream",
     "text": [
      "0\n"
     ]
    },
    {
     "name": "stderr",
     "output_type": "stream",
     "text": [
      "100%|██████████| 1/1 [00:00<00:00, 15.52it/s]\n"
     ]
    },
    {
     "name": "stdout",
     "output_type": "stream",
     "text": [
      "0\n"
     ]
    },
    {
     "name": "stderr",
     "output_type": "stream",
     "text": [
      "100%|██████████| 1/1 [00:00<00:00, 15.47it/s]\n"
     ]
    },
    {
     "name": "stdout",
     "output_type": "stream",
     "text": [
      "0\n"
     ]
    },
    {
     "name": "stderr",
     "output_type": "stream",
     "text": [
      "100%|██████████| 1/1 [00:00<00:00, 13.75it/s]\n"
     ]
    },
    {
     "name": "stdout",
     "output_type": "stream",
     "text": [
      "0\n"
     ]
    },
    {
     "name": "stderr",
     "output_type": "stream",
     "text": [
      "100%|██████████| 1/1 [00:00<00:00, 15.34it/s]\n"
     ]
    },
    {
     "name": "stdout",
     "output_type": "stream",
     "text": [
      "0\n"
     ]
    },
    {
     "name": "stderr",
     "output_type": "stream",
     "text": [
      "100%|██████████| 1/1 [00:00<00:00, 14.69it/s]\n"
     ]
    },
    {
     "name": "stdout",
     "output_type": "stream",
     "text": [
      "0\n"
     ]
    },
    {
     "name": "stderr",
     "output_type": "stream",
     "text": [
      "100%|██████████| 1/1 [00:00<00:00, 14.26it/s]\n"
     ]
    },
    {
     "name": "stdout",
     "output_type": "stream",
     "text": [
      "0\n"
     ]
    },
    {
     "name": "stderr",
     "output_type": "stream",
     "text": [
      "100%|██████████| 1/1 [00:00<00:00, 15.80it/s]\n"
     ]
    },
    {
     "name": "stdout",
     "output_type": "stream",
     "text": [
      "0\n"
     ]
    },
    {
     "name": "stderr",
     "output_type": "stream",
     "text": [
      "100%|██████████| 1/1 [00:00<00:00,  7.59it/s]\n"
     ]
    },
    {
     "name": "stdout",
     "output_type": "stream",
     "text": [
      "0\n"
     ]
    },
    {
     "name": "stderr",
     "output_type": "stream",
     "text": [
      "100%|██████████| 1/1 [00:00<00:00, 15.05it/s]\n"
     ]
    },
    {
     "name": "stdout",
     "output_type": "stream",
     "text": [
      "0\n"
     ]
    },
    {
     "name": "stderr",
     "output_type": "stream",
     "text": [
      "100%|██████████| 1/1 [00:00<00:00, 15.03it/s]\n"
     ]
    },
    {
     "name": "stdout",
     "output_type": "stream",
     "text": [
      "0\n"
     ]
    },
    {
     "name": "stderr",
     "output_type": "stream",
     "text": [
      "100%|██████████| 1/1 [00:00<00:00, 15.72it/s]\n"
     ]
    },
    {
     "name": "stdout",
     "output_type": "stream",
     "text": [
      "0\n"
     ]
    },
    {
     "name": "stderr",
     "output_type": "stream",
     "text": [
      "100%|██████████| 1/1 [00:00<00:00, 15.83it/s]\n"
     ]
    },
    {
     "name": "stdout",
     "output_type": "stream",
     "text": [
      "0\n",
      "Model: SDXLTurbo, rewards: [0, 0, 0, 0, 0, 0, 0, 0, 0, 0, 0, 0, 0, 0, 0, 0, 0, 0, 0, 0]\n",
      "Accuracy: 0.0\n"
     ]
    }
   ],
   "source": [
    "import requests\n",
    "import json\n",
    "import torch\n",
    "from dependency_modules.rewarding.app import instantiate_from_config, MODEL_CONFIG\n",
    "from image_generation_subnet.validator.forward import get_reward\n",
    "from image_generation_subnet.protocol import ImageGenerating\n",
    "from dependency_modules.rewarding.utils import pil_image_to_base64\n",
    "import numpy as np\n",
    "\n",
    "N = 20\n",
    "url_dict = {\n",
    "    \"RealisticVision\": \"http://check_realistic_vision_nicheimage.nichetensor.com:15011/verify\",\n",
    "    \"SDXLTurbo\": \"http://sdxl_turbo_nicheimage.nichetensor.com:15012/verify\",\n",
    "}\n",
    "rewards = {}\n",
    "for model, url in url_dict.items():\n",
    "    print(f\"Model: {model}\")\n",
    "    pipe = instantiate_from_config(MODEL_CONFIG[model])\n",
    "    rewards[model] = []\n",
    "    if model == \"RealisticVision\":\n",
    "        params = {\n",
    "            \"num_inference_steps\": 30,\n",
    "        }\n",
    "    else:\n",
    "        params = {\n",
    "            \"num_inference_steps\": 4,\n",
    "            \"width\": 512,\n",
    "            \"height\": 512,\n",
    "            \"guidance_scale\": 0.5,\n",
    "        }\n",
    "    for i in range(N):\n",
    "        prompt = \"an image of samurai, red hat, and a katana, with a red background\"\n",
    "        seed = i\n",
    "        synapse = ImageGenerating(\n",
    "            prompt=prompt,\n",
    "            seed=seed,\n",
    "            model_name=model,\n",
    "            pipeline_params=params,\n",
    "        )\n",
    "        generator = torch.manual_seed(seed)\n",
    "        params[\"num_inference_steps\"] = 1 if model == \"SDXLTurbo\" else 10\n",
    "        result = pipe(\n",
    "            prompt,\n",
    "            generator=generator,\n",
    "            **params,\n",
    "        )\n",
    "        params[\"num_inference_steps\"] = 4 if model == \"SDXLTurbo\" else 30\n",
    "        images = result.images\n",
    "        synapse.image = pil_image_to_base64(images[0])\n",
    "        reward = get_reward(url, [synapse], synapse)[0]\n",
    "        print(reward)\n",
    "        rewards[model].append(reward)\n",
    "\n",
    "    print(f\"Model: {model}, rewards: {rewards[model]}\")\n",
    "    print(f\"Accuracy: {np.mean(rewards[model])}\")"
   ]
  }
 ],
 "metadata": {
  "kernelspec": {
   "display_name": "base",
   "language": "python",
   "name": "python3"
  },
  "language_info": {
   "codemirror_mode": {
    "name": "ipython",
    "version": 3
   },
   "file_extension": ".py",
   "mimetype": "text/x-python",
   "name": "python",
   "nbconvert_exporter": "python",
   "pygments_lexer": "ipython3",
   "version": "3.11.5"
  }
 },
 "nbformat": 4,
 "nbformat_minor": 2
}
